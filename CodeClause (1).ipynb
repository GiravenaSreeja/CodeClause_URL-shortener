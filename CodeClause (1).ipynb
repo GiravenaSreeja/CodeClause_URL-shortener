{
 "cells": [
  {
   "cell_type": "code",
   "execution_count": 2,
   "id": "d2ba532c",
   "metadata": {},
   "outputs": [
    {
     "name": "stdout",
     "output_type": "stream",
     "text": [
      "Collecting pyshorteners\n",
      "  Downloading pyshorteners-1.0.1.tar.gz (10.0 kB)\n",
      "Requirement already satisfied: requests in c:\\users\\ravi\\anaconda3\\lib\\site-packages (from pyshorteners) (2.28.2)\n",
      "Requirement already satisfied: certifi>=2017.4.17 in c:\\users\\ravi\\anaconda3\\lib\\site-packages (from requests->pyshorteners) (2020.12.5)\n",
      "Requirement already satisfied: charset-normalizer<4,>=2 in c:\\users\\ravi\\anaconda3\\lib\\site-packages (from requests->pyshorteners) (3.0.1)\n",
      "Requirement already satisfied: urllib3<1.27,>=1.21.1 in c:\\users\\ravi\\anaconda3\\lib\\site-packages (from requests->pyshorteners) (1.26.4)\n",
      "Requirement already satisfied: idna<4,>=2.5 in c:\\users\\ravi\\anaconda3\\lib\\site-packages (from requests->pyshorteners) (2.10)\n",
      "Building wheels for collected packages: pyshorteners\n",
      "  Building wheel for pyshorteners (setup.py): started\n",
      "  Building wheel for pyshorteners (setup.py): finished with status 'done'\n",
      "  Created wheel for pyshorteners: filename=pyshorteners-1.0.1-py3-none-any.whl size=17499 sha256=03d286b58d19762dd4054c3e39c75e76c33f8c0a3d2afd3ae7c4e514578de2d4\n",
      "  Stored in directory: c:\\users\\ravi\\appdata\\local\\pip\\cache\\wheels\\0f\\6e\\88\\f0c854fa281b13d4997e9068dd69201e51c4b051c52c30b48d\n",
      "Successfully built pyshorteners\n",
      "Installing collected packages: pyshorteners\n",
      "Successfully installed pyshorteners-1.0.1\n"
     ]
    },
    {
     "name": "stderr",
     "output_type": "stream",
     "text": [
      "  WARNING: Retrying (Retry(total=4, connect=None, read=None, redirect=None, status=None)) after connection broken by 'NewConnectionError('<pip._vendor.urllib3.connection.HTTPSConnection object at 0x000001EEC30137F0>: Failed to establish a new connection: [Errno 11001] getaddrinfo failed')': /packages/80/13/7dd5f53ac009775e18861f41efadf78160e1015c84a476d373957cb63b5c/pyshorteners-1.0.1.tar.gz\n",
      "  WARNING: Retrying (Retry(total=3, connect=None, read=None, redirect=None, status=None)) after connection broken by 'ProtocolError('Connection aborted.', ConnectionResetError(10054, 'An existing connection was forcibly closed by the remote host', None, 10054, None))': /packages/80/13/7dd5f53ac009775e18861f41efadf78160e1015c84a476d373957cb63b5c/pyshorteners-1.0.1.tar.gz\n",
      "  WARNING: Retrying (Retry(total=2, connect=None, read=None, redirect=None, status=None)) after connection broken by 'ReadTimeoutError(\"HTTPSConnectionPool(host='files.pythonhosted.org', port=443): Read timed out. (read timeout=15)\")': /packages/80/13/7dd5f53ac009775e18861f41efadf78160e1015c84a476d373957cb63b5c/pyshorteners-1.0.1.tar.gz\n"
     ]
    }
   ],
   "source": [
    "!pip install pyshorteners"
   ]
  },
  {
   "cell_type": "code",
   "execution_count": 5,
   "id": "c2bf701f",
   "metadata": {},
   "outputs": [
    {
     "name": "stdout",
     "output_type": "stream",
     "text": [
      "Enter the Link:https://www.youtube.com/channel/UCu5dKasi8jWQ8fNMIyQS05g\n",
      "https://tinyurl.com/y9l3wkpo\n"
     ]
    }
   ],
   "source": [
    "import pyshorteners\n",
    "\n",
    "link=input(\"Enter the Link:\")\n",
    "\n",
    "shortener=pyshorteners.Shortener()\n",
    "\n",
    "shorted_link=shortener.tinyurl.short(link)\n",
    "\n",
    "print(shorted_link)"
   ]
  },
  {
   "cell_type": "code",
   "execution_count": null,
   "id": "e64431c5",
   "metadata": {},
   "outputs": [],
   "source": []
  }
 ],
 "metadata": {
  "kernelspec": {
   "display_name": "Python 3",
   "language": "python",
   "name": "python3"
  },
  "language_info": {
   "codemirror_mode": {
    "name": "ipython",
    "version": 3
   },
   "file_extension": ".py",
   "mimetype": "text/x-python",
   "name": "python",
   "nbconvert_exporter": "python",
   "pygments_lexer": "ipython3",
   "version": "3.8.8"
  }
 },
 "nbformat": 4,
 "nbformat_minor": 5
}
